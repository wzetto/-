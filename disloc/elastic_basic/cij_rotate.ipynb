{
 "cells": [
  {
   "cell_type": "code",
   "execution_count": 2,
   "metadata": {},
   "outputs": [],
   "source": [
    "import numpy as np\n",
    "import matplotlib.pyplot as plt \n",
    "from itertools import combinations, product\n",
    "from matplotlib.colors import Normalize"
   ]
  },
  {
   "cell_type": "markdown",
   "metadata": {},
   "source": [
    "Rotation of the stiffness tensor (orthorhombic lattice). The initial stiffness tensor corresponds to ZrB₂ in $P6/mmm$ lattice within $[11\\bar{2}0]-[\\bar{1}100]-[0001]$ coordinate system."
   ]
  },
  {
   "cell_type": "code",
   "execution_count": 6,
   "metadata": {},
   "outputs": [
    {
     "data": {
      "text/plain": [
       "array([[ 5.64198172e+02,  1.28288064e+02,  5.34288205e+01,\n",
       "         6.01472355e-05, -3.02534032e-05, -9.98973357e-07],\n",
       "       [ 1.28288064e+02,  4.00956533e+02,  1.28311756e+02,\n",
       "         1.19407271e-04, -6.93050609e-05,  1.48833230e-05],\n",
       "       [ 5.34288205e+01,  1.28311756e+02,  5.64177139e+02,\n",
       "        -6.56355432e-05,  5.79016134e-06,  3.71579354e-06],\n",
       "       [ 4.89702765e-04,  4.74991165e-04, -6.18306861e-04,\n",
       "         2.52387177e+02,  1.06245621e-05,  3.13085710e-05],\n",
       "       [ 2.20091130e-05, -6.98742709e-05,  2.25640038e-04,\n",
       "         1.89443491e-06,  2.55468110e+02, -3.79005762e-05],\n",
       "       [ 8.55184603e-05, -6.00820808e-05, -1.60032364e-04,\n",
       "         5.90478480e-05,  2.05481666e-05,  2.52386518e+02]])"
      ]
     },
     "execution_count": 6,
     "metadata": {},
     "output_type": "execute_result"
    }
   ],
   "source": [
    "cij = np.load('data/ZrB2_cij_3.172_3.546_try_1_fin.npy')\n",
    "cij"
   ]
  },
  {
   "cell_type": "code",
   "execution_count": 11,
   "metadata": {},
   "outputs": [
    {
     "name": "stdout",
     "output_type": "stream",
     "text": [
      "Orthogonality check:\n",
      " [[1. 0. 0.]\n",
      " [0. 1. 0.]\n",
      " [0. 0. 1.]]\n",
      "raw shear modulus: 252.38651799999883\n",
      "raw poisson ratio: 0.3123847834611543\n"
     ]
    }
   ],
   "source": [
    "def uvtw2uvw(vec_uvtw):\n",
    "    uvtw_basemat = np.array([\n",
    "        [1, 0, 0],\n",
    "        [0, 1, 0],\n",
    "        [-1, -1, 0],\n",
    "        [0, 0, 1]\n",
    "    ])\n",
    "    return uvtw_basemat.T@vec_uvtw\n",
    "\n",
    "def uvw2uvtw(vec_uvw):\n",
    "    uvtw_basemat = np.array([\n",
    "        [1, 0, 0],\n",
    "        [0, 1, 0],\n",
    "        [-1, -1, 0],\n",
    "        [0, 0, 1]\n",
    "    ])\n",
    "    return np.linalg.pinv(uvtw_basemat.T)@vec_uvw\n",
    "\n",
    "def a_rot(psi, phi, theta=0):\n",
    "    return np.array([\n",
    "        \n",
    "        [np.cos(theta)*np.cos(psi)*np.cos(phi)-np.sin(theta)*np.sin(phi), \n",
    "         np.cos(theta)*np.cos(psi)*np.sin(phi)+np.sin(theta)*np.cos(phi), \n",
    "         -np.cos(theta)*np.sin(psi)],\n",
    "        \n",
    "        [-np.sin(theta)*np.cos(psi)*np.cos(phi)-np.cos(theta)*np.sin(phi), \n",
    "         -np.sin(theta)*np.cos(psi)*np.sin(phi)+np.cos(theta)*np.cos(phi), \n",
    "         np.sin(theta)*np.sin(psi)],\n",
    "        \n",
    "        [np.sin(psi)*np.cos(phi), \n",
    "         np.sin(psi)*np.sin(phi), \n",
    "         np.cos(psi)],\n",
    "        \n",
    "    ])\n",
    "\n",
    "def ijkl_invert(sij_voigt):\n",
    "    \n",
    "    sijkl = np.zeros((3,3,3,3))\n",
    "    for i, j, k, l in product(range(3), repeat=4):\n",
    "        ij_ind, kl_idn = comb_dict[(i,j)], comb_dict[(k,l)]\n",
    "        \n",
    "        if ij_ind < 3 and kl_idn < 3:\n",
    "            sijkl[i,j,k,l] = sij_voigt[ij_ind, kl_idn]\n",
    "        elif np.min([ij_ind, kl_idn]) < 3 and np.max([ij_ind, kl_idn]) >= 3:\n",
    "            sijkl[i,j,k,l] = sij_voigt[ij_ind, kl_idn]/2\n",
    "        elif ij_ind >= 3 and kl_idn >= 3: \n",
    "            sijkl[i,j,k,l] = sij_voigt[ij_ind, kl_idn]/4\n",
    "            \n",
    "    return sijkl\n",
    "        \n",
    "cij_0001 = np.load('data/ZrB2_cij_3.172_3.546_try_1_fin.npy')\n",
    "# cij_0001 = np.clip(cij_0001, 0, None)\n",
    "sij_0001 = np.linalg.inv(cij_0001)\n",
    "\n",
    "a, c = 3.172, 3.546\n",
    "#* 1000-0001-0110 lattice vector\n",
    "lattice_vec = np.array([\n",
    "    [a, 0, 0],\n",
    "    [0, c, 0],\n",
    "    [0, 0, np.sqrt(3)*a],\n",
    "])\n",
    "\n",
    "#TODO angle method-tensor\n",
    "# psi, phi, theta = 0, np.arctan(c/a), 0\n",
    "# rot_tensor = a_rot(psi, phi, theta)\n",
    "#* ====== angle-based method ======\n",
    "\n",
    "#TODO vector method-tensor\n",
    "#* raw vector in Cartesian coordinate\n",
    "#* 1000-0001-0110 1100 coordinate system\n",
    "nmt_raw = (np.array([\n",
    "    [1,0,0],\n",
    "    [0,1,0],\n",
    "    [0,0,1],\n",
    "])@lattice_vec)\n",
    "nmt_raw = nmt_raw/np.linalg.norm(nmt_raw, axis=1)[:,None]\n",
    "\n",
    "#* new vector in Cartesian coordinate\n",
    "#* 11-20 - -1100 - 0001 coordinate system\n",
    "nmt_n = np.array([\n",
    "    [a/np.sqrt(a**2+c**2), c/np.sqrt(a**2+c**2), 0],\n",
    "    [-c/np.sqrt(a**2+c**2), a/np.sqrt(a**2+c**2), 0],\n",
    "    [0,0,1],\n",
    "])\n",
    "#* 1100 - 000-1 - -1100 coordinate system\n",
    "# nmt_n = np.array([\n",
    "#     [a/np.sqrt(a**2+c**2), c/np.sqrt(a**2+c**2), 0],\n",
    "#     [0, 0, -1],\n",
    "#     [-c/np.sqrt(a**2+c**2), a/np.sqrt(a**2+c**2), 0],\n",
    "# ])\n",
    "rot_tensor = nmt_n@np.linalg.inv(nmt_raw)\n",
    "#* ======== vector-based method ========\n",
    "\n",
    "print('Orthogonality check:\\n', np.round(rot_tensor@rot_tensor.T, 2))\n",
    "\n",
    "comb_dict = {\n",
    "    (0,0):0,\n",
    "    (0,1):5,\n",
    "    (1,0):5,\n",
    "    (0,2):4,\n",
    "    (2,0):4,\n",
    "    (1,1):1,\n",
    "    (1,2):3,\n",
    "    (2,1):3,\n",
    "    (2,2):2,\n",
    "}\n",
    "\n",
    "sij_1100_ijkl = np.zeros((3,3,3,3))\n",
    "for i, j, k, l in product(range(3), repeat=4):\n",
    "    for m, n, o, p in product(range(3), repeat=4):\n",
    "        \n",
    "        aim = rot_tensor[i, m]\n",
    "        ajn = rot_tensor[j, n]\n",
    "        ako = rot_tensor[k, o]\n",
    "        alp = rot_tensor[l, p]\n",
    "        \n",
    "        mn_ind = comb_dict[(m,n)]\n",
    "        op_ind = comb_dict[(o,p)]\n",
    "        ij_ind = comb_dict[(i,j)]\n",
    "        kl_ind = comb_dict[(k,l)]\n",
    "        \n",
    "        sij_0001_ijkl = ijkl_invert(sij_0001)\n",
    "        sij_1100_ijkl[i, j, k, l] += aim*ajn*ako*alp*sij_0001_ijkl[m, n, o, p]\n",
    "\n",
    "print(f'raw shear modulus: {1/sij_0001[5,5]}')\n",
    "print(f'raw poisson ratio: {-sij_0001_ijkl[0,0,1,1]/sij_0001_ijkl[0,0,0,0]}')"
   ]
  },
  {
   "cell_type": "code",
   "execution_count": 12,
   "metadata": {},
   "outputs": [
    {
     "name": "stdout",
     "output_type": "stream",
     "text": [
      "new shear modulus: 167.81334470832172\n",
      "new poisson ratio: 0.05041537863247894\n"
     ]
    },
    {
     "data": {
      "text/plain": [
       "(array([[ 1.94878863e-03, -9.82489168e-05, -3.52083944e-04,\n",
       "         -1.07377569e-09, -7.91770203e-10,  5.90473014e-04],\n",
       "        [-9.82488219e-05,  1.84179971e-03, -2.90772753e-04,\n",
       "         -5.53224904e-10,  1.55711788e-10,  3.67448675e-04],\n",
       "        [-3.52084481e-04, -2.90772217e-04,  1.91269377e-03,\n",
       "          6.84459914e-10,  4.48932277e-10, -5.48956215e-04],\n",
       "        [-3.76778862e-09, -2.64630048e-09,  5.31047110e-09,\n",
       "          3.93562281e-03,  2.37440726e-05, -3.14197018e-09],\n",
       "        [-2.82789164e-09, -2.72581249e-09,  3.16339379e-09,\n",
       "          2.37442080e-05,  3.94092652e-03, -1.14436337e-09],\n",
       "        [ 5.90472258e-04,  3.67449453e-04, -5.48956335e-04,\n",
       "         -1.23275833e-09, -3.44665606e-10,  5.95900166e-03]]),\n",
       " array([[ 5.47832406e+02,  5.39732356e+01,  9.50260813e+01,\n",
       "          1.24668917e-04,  9.20831332e-05, -4.88584338e+01],\n",
       "        [ 5.39732241e+01,  5.65951967e+02,  8.67144952e+01,\n",
       "          6.92444023e-05, -2.46343874e-05, -3.22580161e+01],\n",
       "        [ 9.50262441e+01,  8.67143324e+01,  5.64177139e+02,\n",
       "         -4.80753099e-05, -4.50590177e-05,  3.72101000e+01],\n",
       "        [ 3.91496890e-04,  2.87347858e-04, -5.80404293e-04,\n",
       "          2.54098627e+02, -1.53094361e+00,  2.37032778e-05],\n",
       "        [ 3.37615694e-04,  3.49476191e-04, -3.10399191e-04,\n",
       "         -1.53095234e+00,  2.53756660e+02, -3.56743423e-05],\n",
       "        [-4.88583537e+01, -3.22580975e+01,  3.72101181e+01,\n",
       "          3.14257222e-05,  2.60409946e-06,  1.78071684e+02]]))"
      ]
     },
     "execution_count": 12,
     "metadata": {},
     "output_type": "execute_result"
    }
   ],
   "source": [
    "def ijkl2voigt(sijkl):\n",
    "    sij_voigt = np.zeros((6,6))\n",
    "    for i,j,k,l in product(range(3), repeat=4):\n",
    "        ij_ind, kl_ind = comb_dict[(i,j)], comb_dict[(k,l)]\n",
    "        sij_voigt[ij_ind, kl_ind] += sijkl[i,j,k,l]\n",
    "    return sij_voigt\n",
    "\n",
    "sij_1100 = ijkl2voigt(sij_1100_ijkl)\n",
    "cij_1100 = np.linalg.inv(sij_1100)\n",
    "print(f'new shear modulus: {1/sij_1100[5,5]}')\n",
    "print(f'new poisson ratio: {-sij_1100[0,1]/sij_1100[0,0]}')\n",
    "sij_1100, cij_1100"
   ]
  }
 ],
 "metadata": {
  "kernelspec": {
   "display_name": "lammps",
   "language": "python",
   "name": "python3"
  },
  "language_info": {
   "codemirror_mode": {
    "name": "ipython",
    "version": 3
   },
   "file_extension": ".py",
   "mimetype": "text/x-python",
   "name": "python",
   "nbconvert_exporter": "python",
   "pygments_lexer": "ipython3",
   "version": "3.11.4"
  }
 },
 "nbformat": 4,
 "nbformat_minor": 2
}
