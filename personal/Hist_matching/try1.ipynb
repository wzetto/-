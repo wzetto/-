{
 "cells": [
  {
   "cell_type": "code",
   "execution_count": null,
   "metadata": {},
   "outputs": [],
   "source": [
    "import numpy as np\n",
    "import cv2\n",
    "from rembg import remove"
   ]
  },
  {
   "attachments": {},
   "cell_type": "markdown",
   "metadata": {},
   "source": [
    "[For Display] Raw + Reference image."
   ]
  },
  {
   "cell_type": "code",
   "execution_count": 4,
   "metadata": {},
   "outputs": [],
   "source": [
    "img_raw = cv2.imread('./test/Castoria_002.jpg')\n",
    "img_ref = cv2.imread('./test/reference_raw.png')\n",
    "h1, w1 = img_raw.shape[:2]\n",
    "h2, w2 = img_ref.shape[:2]\n",
    "\n",
    "vis = np.zeros((max(h1, h2), w1+w2,3), np.uint8)\n",
    "\n",
    "vis[:h1, :w1,:3] = img_raw\n",
    "vis[:h2, w1:w1+w2,:3] = img_ref\n",
    "cv2.imwrite('./test/ref_raw.png', vis)\n",
    "\n",
    "cv2.imshow('output_1', vis)\n",
    "\n",
    "cv2.waitKey(0)\n",
    "cv2.destroyAllWindows()"
   ]
  },
  {
   "cell_type": "markdown",
   "metadata": {},
   "source": [
    "Denoise step."
   ]
  },
  {
   "cell_type": "code",
   "execution_count": 3,
   "metadata": {},
   "outputs": [],
   "source": [
    "pth_base = '/Users/wz/Library/CloudStorage/OneDrive-KyotoUniversity/Project/Github/projLite-buffer/hist_matching'\n",
    "pth_raw = pth_base + '/Castoria_045.jpg'\n",
    "output = cv2.imread(pth_raw)\n",
    "sav_pth = pth_base + '/deno.png'\n",
    "output = output[1732-1142:-1, :] #* Cropping step.\n",
    "h = 10\n",
    "#* Size in pixels of the template patch that is used to compute weights. Should be odd. Recommended value 7 pixels\n",
    "templateWindowSize = 7\n",
    "#* Size in pixels of the window that is used to compute weighted average for given pixel. Should be odd. Affect performance linearly: greater searchWindowsSize - greater denoising time. Recommended value 21 pixels\n",
    "searchWindowSize = 21\n",
    "output_ = cv2.fastNlMeansDenoisingColored(output, None, h, h, templateWindowSize, searchWindowSize)\n",
    "cv2.imwrite(sav_pth, output_)\n",
    "\n",
    "cv2.imshow('output_1', output_)\n",
    "\n",
    "cv2.waitKey(0)\n",
    "cv2.destroyAllWindows()"
   ]
  },
  {
   "attachments": {},
   "cell_type": "markdown",
   "metadata": {},
   "source": [
    "Cutout step."
   ]
  },
  {
   "cell_type": "code",
   "execution_count": 4,
   "metadata": {},
   "outputs": [],
   "source": [
    "input_path = sav_pth\n",
    "deno_cut_pth = pth_base + '/deno_cutout.png'\n",
    "\n",
    "with open(input_path, 'rb') as i:\n",
    "    with open(deno_cut_pth, 'wb') as o:\n",
    "        input = i.read()\n",
    "        output = remove(input)\n",
    "        o.write(output)"
   ]
  },
  {
   "attachments": {},
   "cell_type": "markdown",
   "metadata": {},
   "source": [
    "Histogram equilization + matching step."
   ]
  },
  {
   "cell_type": "code",
   "execution_count": 5,
   "metadata": {},
   "outputs": [
    {
     "data": {
      "text/plain": [
       "True"
      ]
     },
     "execution_count": 5,
     "metadata": {},
     "output_type": "execute_result"
    }
   ],
   "source": [
    "def hist_match(img_raw_, img_ref_):\n",
    "\n",
    "    for i in range(img_raw_.shape[2]):\n",
    "        img_raw, img_ref = img_raw_[:,:,i], img_ref_[:,:,i]\n",
    "        img_raw_shape = img_raw.shape\n",
    "        \n",
    "        img_raw, img_ref = img_raw.flatten(), img_ref.flatten()\n",
    "\n",
    "        raw_values, raw_idx, raw_num = np.unique(img_raw, return_inverse=True,return_counts=True)\n",
    "        ref_values, ref_num = np.unique(img_ref, return_counts=True)\n",
    "\n",
    "        raw_cdf = np.cumsum(raw_num).astype(np.float64) #* Cumulative sum\n",
    "        raw_cdf /= raw_cdf[-1] #* Normalization\n",
    "        ref_cdf = np.cumsum(ref_num).astype(np.float64)\n",
    "        ref_cdf /= ref_cdf[-1]\n",
    "\n",
    "        #* T(ref) >= sum(p(s))\n",
    "        interp_t_val = np.interp(raw_cdf, ref_cdf, ref_values)\n",
    "        img_raw_[:,:,i] = interp_t_val[raw_idx].reshape(img_raw_shape)\n",
    "        \n",
    "    return img_raw_\n",
    "\n",
    "pth_raw = deno_cut_pth\n",
    "pth_ref = '/Users/wz/Library/CloudStorage/OneDrive-KyotoUniversity/Project/Github/projLite-buffer/hist_matching/ref.png'\n",
    "pth_hist = pth_base + '/deno_cut_histm.png'\n",
    "img_raw = cv2.imread(pth_raw)\n",
    "img_ref = cv2.imread(pth_ref)\n",
    "img_raw = hist_match(img_raw, img_ref)\n",
    "\n",
    "cv2.imwrite(pth_hist, img_raw)"
   ]
  },
  {
   "attachments": {},
   "cell_type": "markdown",
   "metadata": {},
   "source": [
    "Dual-denoise."
   ]
  },
  {
   "cell_type": "code",
   "execution_count": 15,
   "metadata": {},
   "outputs": [],
   "source": [
    "output = cv2.imread(pth_hist)\n",
    "hist_deno = pth_base + '/histm_deno.png'\n",
    "h = 3\n",
    "#* Size in pixels of the template patch that is used to compute weights. Should be odd. Recommended value 7 pixels\n",
    "templateWindowSize = 7\n",
    "#* Size in pixels of the window that is used to compute weighted average for given pixel. Should be odd. Affect performance linearly: greater searchWindowsSize - greater denoising time. Recommended value 21 pixels\n",
    "searchWindowSize = 21\n",
    "output_ = cv2.fastNlMeansDenoisingColored(output, None, h, h, templateWindowSize, searchWindowSize)\n",
    "cv2.imwrite(hist_deno, output_)\n",
    "\n",
    "cv2.imshow('output_1', output_)\n",
    "\n",
    "cv2.waitKey(0)\n",
    "cv2.destroyAllWindows()"
   ]
  },
  {
   "attachments": {},
   "cell_type": "markdown",
   "metadata": {},
   "source": [
    "Adjust alpha."
   ]
  },
  {
   "cell_type": "code",
   "execution_count": 20,
   "metadata": {},
   "outputs": [],
   "source": [
    "mask = cv2.imread(deno_cut_pth) #* deno_cutout\n",
    "mask = cv2.cvtColor(mask, cv2.COLOR_BGR2GRAY)\n",
    "# Apply a threshold to the grayscale image\n",
    "_, threshold = cv2.threshold(mask, 0, 255, cv2.THRESH_BINARY)\n",
    "t_x, t_y = np.where(threshold<=1)\n",
    "t_ind = np.concatenate((t_x.reshape(-1,1), t_y.reshape(-1,1)), axis=1) #* Return transparent coordinates.\n",
    "\n",
    "new = cv2.imread(hist_deno)\n",
    "new = cv2.cvtColor(new, cv2.COLOR_BGR2RGBA)\n",
    "sav_new = pth_base + '/alpha.png'\n",
    "alpha = new[:, :, 3]\n",
    "alpha[t_x, t_y] = 0\n",
    "new[:, :, 3] = alpha\n",
    "new = cv2.cvtColor(new, cv2.COLOR_RGBA2BGRA)\n",
    "\n",
    "cv2.imwrite(sav_new, new)\n",
    "\n",
    "cv2.imshow('inpaint', new)\n",
    "\n",
    "cv2.waitKey(0)\n",
    "cv2.destroyAllWindows()"
   ]
  },
  {
   "attachments": {},
   "cell_type": "markdown",
   "metadata": {},
   "source": [
    "To remove some noise."
   ]
  },
  {
   "cell_type": "code",
   "execution_count": 22,
   "metadata": {},
   "outputs": [],
   "source": [
    "input_path = sav_new\n",
    "deno_cut_pth = pth_base + '/alpha_cutout.png'\n",
    "\n",
    "with open(input_path, 'rb') as i:\n",
    "    with open(deno_cut_pth, 'wb') as o:\n",
    "        input = i.read()\n",
    "        output = remove(input)\n",
    "        o.write(output)"
   ]
  },
  {
   "attachments": {},
   "cell_type": "markdown",
   "metadata": {},
   "source": [
    "[For display] Compare"
   ]
  },
  {
   "cell_type": "code",
   "execution_count": 8,
   "metadata": {},
   "outputs": [],
   "source": [
    "img_raw = cv2.imread('./test/hist_match_deno_cutout.png')\n",
    "img_ref = cv2.imread('./test/reference_raw.png')\n",
    "h1, w1 = img_raw.shape[:2]\n",
    "h2, w2 = img_ref.shape[:2]\n",
    "\n",
    "vis = np.zeros((max(h1, h2), w1+w2,3), np.uint8)\n",
    "\n",
    "vis[:h1, :w1,:3] = img_raw\n",
    "vis[:h2, w1:w1+w2,:3] = img_ref\n",
    "cv2.imwrite('./test/match_raw.png', vis)\n",
    "\n",
    "cv2.imshow('output_1', vis)\n",
    "\n",
    "cv2.waitKey(0)\n",
    "cv2.destroyAllWindows()"
   ]
  }
 ],
 "metadata": {
  "kernelspec": {
   "display_name": "base",
   "language": "python",
   "name": "python3"
  },
  "language_info": {
   "codemirror_mode": {
    "name": "ipython",
    "version": 3
   },
   "file_extension": ".py",
   "mimetype": "text/x-python",
   "name": "python",
   "nbconvert_exporter": "python",
   "pygments_lexer": "ipython3",
   "version": "3.10.9"
  },
  "orig_nbformat": 4,
  "vscode": {
   "interpreter": {
    "hash": "40d3a090f54c6569ab1632332b64b2c03c39dcf918b08424e98f38b5ae0af88f"
   }
  }
 },
 "nbformat": 4,
 "nbformat_minor": 2
}
