{
 "cells": [
  {
   "cell_type": "code",
   "execution_count": 1,
   "metadata": {},
   "outputs": [],
   "source": [
    "import pandas as pd\n",
    "import numpy as np\n",
    "from matplotlib import pyplot as plt\n",
    "import seaborn as sns\n",
    "import dask.array as da"
   ]
  },
  {
   "cell_type": "code",
   "execution_count": 2,
   "metadata": {},
   "outputs": [],
   "source": [
    "def merge_list(list):\n",
    "    return sum(list,[])\n",
    "\n",
    "def transstrain(straintrans):\n",
    "    mp5_strain = straintrans.values.tolist()\n",
    "    resultstrain = []\n",
    "    for s_strain in mp5_strain:\n",
    "        resultstrain.append(s_strain)\n",
    "    return resultstrain\n",
    "\n",
    "def transstress(stresstrans):\n",
    "    mp5_stress = stresstrans.values.tolist()\n",
    "    resultstress = []\n",
    "    for s_stress in mp5_stress:\n",
    "        resultstress.append(s_stress)\n",
    "    return resultstress\n",
    "\n",
    "def plot(tplot):\n",
    "    figsize = 80, 60\n",
    "    figure, ax = plt.subplots(figsize = figsize)\n",
    "    plt.imshow(tplot, interpolation = 'nearest', cmap = 'Reds')\n",
    "    plt.colorbar()\n",
    "    plt.gca().invert_yaxis()\n",
    "    \n",
    "def maxdivisor(n):\n",
    "    num = n //2\n",
    "    while num >1:\n",
    "        if n % num ==0:\n",
    "            print(num)\n",
    "            break\n",
    "        else:\n",
    "            num = num - 1\n",
    "    else:\n",
    "        print('prime')"
   ]
  },
  {
   "cell_type": "code",
   "execution_count": 4,
   "metadata": {},
   "outputs": [],
   "source": [
    "#file4 = '/Users/wz/OneDrive/OneDrive - Kyoto University/MPdata/20210709ct/2-k12.5-1.csv'\n",
    "file4 = 'C:/Users/yaoho/OneDrive - Kyoto University/MPdata/20210709ct/2-k12.5-1.csv'\n",
    "Thickness4 = 1.35\n",
    "Width4 = 1.8\n",
    "l = 4.625\n",
    "s4 = Thickness4*Width4\n",
    "mp4 = pd.read_csv(file4, header = 0, names = [\"Stress\", \"Strain\"], skiprows = [1,2,3], encoding= 'unicode_escape')\n",
    "mp4['StrainTrue'] = mp4['Strain']/l*100\n",
    "mp4['StressTrue'] = mp4['Stress']/s4*1000\n",
    "strain4 = mp4['StrainTrue']\n",
    "stress4 = mp4['StressTrue']\n",
    "resultstrain4 = transstrain(strain4)\n",
    "resultstress4 = transstress(stress4)\n",
    "\n",
    "#file1 = '/Users/wz/OneDrive/OneDrive - Kyoto University/MPdata/20210709ct/2-k38.3-42.6-4.csv'\n",
    "file1 = 'C:/Users/yaoho/OneDrive - Kyoto University/MPdata/20210709ct/2-k38.3-42.6-4.csv'\n",
    "Thickness1 = 1.35\n",
    "Width1 = 1.8\n",
    "s1 = Thickness1*Width1\n",
    "mp1 = pd.read_csv(file1, header = 0, names = [\"Stress\", \"Strain\"], skiprows = [1,2,3], encoding= 'unicode_escape')\n",
    "mp1['StrainTrue'] = mp1['Strain']/l*100\n",
    "mp1['StressTrue'] = mp1['Stress']/s1*1000\n",
    "strain1 = mp1['StrainTrue']\n",
    "stress1 = mp1['StressTrue']\n",
    "resultstrain1 = transstrain(strain1)\n",
    "resultstress1 = transstress(stress1)\n",
    "\n",
    "#file2 = '/Users/wz/OneDrive/OneDrive - Kyoto University/MPdata/20210709ct/2-k200-200.8-10.csv'\n",
    "file2 = 'C:/Users/yaoho/OneDrive - Kyoto University/MPdata/20210709ct/2-k200-200.8-10.csv'\n",
    "Thickness2 = 1.35\n",
    "Width2 = 1.8\n",
    "s2 = Thickness2*Width2\n",
    "mp2 = pd.read_csv(file2, header = 0, names = [\"Stress\", \"Strain\"], skiprows = [1,2,3], encoding= 'unicode_escape')\n",
    "mp2['StrainTrue'] = mp2['Strain']/l*100\n",
    "mp2['StressTrue'] = mp2['Stress']/s2*1000\n",
    "strain2 = mp2['StrainTrue']\n",
    "stress2 = mp2['StressTrue']\n",
    "resultstrain2 = transstrain(strain2)\n",
    "resultstress2 = transstress(stress2)"
   ]
  },
  {
   "cell_type": "code",
   "execution_count": 4,
   "metadata": {},
   "outputs": [],
   "source": [
    "def eucliddiscal(resultstressy, resultstressx):\n",
    "    distorigin = np.zeros((len(resultstressy), len(resultstressx)))\n",
    "    for x in range(len(resultstressy)):\n",
    "        for y in range(len(resultstressx)):\n",
    "            distorigin[x, y] = (resultstressx[y] - resultstressy[x])**2\n",
    "\n",
    "    dtwm = np.zeros((len(resultstressy), len(resultstressx)))\n",
    "    dtwm[0, 0] = distorigin[0, 0]\n",
    "    for x1 in range(1, len(resultstressx)):\n",
    "        dtwm[0, x1] = dtwm[0, x1-1] + distorigin[0, x1]\n",
    "    for y1 in range(1, len(resultstressy)):\n",
    "        dtwm[y1, 0] = dtwm[y1-1, 0] + distorigin[y1, 0]\n",
    "    for x in range(1, len(resultstressy)):\n",
    "        for y in range(1, len(resultstressx)):\n",
    "            dtwm[x, y] = min(dtwm[x-1, y-1], dtwm[x-1, y], dtwm[x, y-1]) + distorigin[x, y]\n",
    "\n",
    "    path = [[len(resultstressx) - 1, len(resultstressy) - 1]]\n",
    "    x = len(resultstressy) - 1\n",
    "    y = len(resultstressx) - 1\n",
    "    while x > 0 and y > 0:\n",
    "        if x == 0:\n",
    "            y = y - 1\n",
    "        elif y == 0:\n",
    "            x = x - 1\n",
    "        else:\n",
    "            if dtwm[x-1, y] == min(dtwm[x-1, y-1], dtwm[x-1, y], dtwm[x, y-1]):\n",
    "                x = x - 1\n",
    "            elif dtwm[x, y-1] == min(dtwm[x-1, y-1], dtwm[x-1, y], dtwm[x, y-1]):\n",
    "                y = y - 1\n",
    "            else:\n",
    "                x = x - 1\n",
    "                y = y - 1\n",
    "        path.append([y, x])\n",
    "    path.append([0,0])\n",
    "    pointx = [point[0] for point in path]\n",
    "    pointy = [point[1] for point in path]\n",
    "    eudis = sum((resultstressy[pointy[i]] - resultstressx[pointx[i]])**2 for i in range(len(pointx)))\n",
    "    print('eudisdistance between resultstressy and resultstressx = {}'.eudis)"
   ]
  },
  {
   "cell_type": "code",
   "execution_count": 5,
   "metadata": {},
   "outputs": [
    {
     "name": "stdout",
     "output_type": "stream",
     "text": [
      "eudisdistance between resultstressy and resultstressx = 4650667.261371258\n",
      "eudisdistance between resultstressy and resultstressx = 98420951.37316424\n"
     ]
    }
   ],
   "source": [
    "eucliddiscal(resultstress1, resultstress4)\n",
    "eucliddiscal(resultstress2, resultstress4)"
   ]
  },
  {
   "cell_type": "code",
   "execution_count": null,
   "metadata": {},
   "outputs": [],
   "source": [
    "#plot(dtwm)\n",
    "#plt.plot(pointx, pointy, linewidth = 6, c = 'k')"
   ]
  }
 ],
 "metadata": {
  "kernelspec": {
   "display_name": "Python 3",
   "language": "python",
   "name": "python3"
  },
  "language_info": {
   "codemirror_mode": {
    "name": "ipython",
    "version": 3
   },
   "file_extension": ".py",
   "mimetype": "text/x-python",
   "name": "python",
   "nbconvert_exporter": "python",
   "pygments_lexer": "ipython3",
   "version": "3.8.8"
  }
 },
 "nbformat": 4,
 "nbformat_minor": 4
}
