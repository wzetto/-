{
 "cells": [
  {
   "cell_type": "markdown",
   "metadata": {},
   "source": [
    "General program for SQS derivation. Take $P6/mmm$ lattice as example."
   ]
  },
  {
   "cell_type": "code",
   "execution_count": 1,
   "metadata": {},
   "outputs": [
    {
     "name": "stdout",
     "output_type": "stream",
     "text": [
      "8\n"
     ]
    }
   ],
   "source": [
    "using Random\n",
    "using LinearAlgebra\n",
    "using NPZ\n",
    "using Combinatorics\n",
    "using Statistics\n",
    "using JLD2\n",
    "using Distributed\n",
    "using JSON\n",
    "using Base.Threads\n",
    "using IJulia\n",
    "using Profile\n",
    "using BenchmarkTools\n",
    "using .GC\n",
    "using PyPlot\n",
    "\n",
    "function zero_clip(num, x)\n",
    "    if x == 0\n",
    "        return 0\n",
    "    end\n",
    "    \n",
    "    return num\n",
    "end\n",
    "\n",
    "println(Threads.nthreads())\n",
    "pth_loadbase = \"\"\n",
    "@everywhere include(\"$(pth_loadbase)cpr_rspace.jl\")\n",
    "@everywhere include(\"$(pth_loadbase)basis_func_quin.jl\")\n",
    "@everywhere include(\"$(pth_loadbase)cpr_sqs.jl\")"
   ]
  },
  {
   "cell_type": "code",
   "execution_count": 3,
   "metadata": {},
   "outputs": [
    {
     "name": "stdout",
     "output_type": "stream",
     "text": [
      "6\n"
     ]
    },
    {
     "data": {
      "text/plain": [
       "config(Dict{Any, Any}(\"4\" => Any[Any[1, 3], Any[1, 34], Any[1, 308], Any[1, 370], Any[1, 835], Any[1, 868], Any[2, 4], Any[2, 17], Any[2, 19], Any[2, 353]  …  Any[62, 896], Any[62, 1421], Any[62, 1423], Any[63, 957], Any[63, 1438], Any[63, 1440], Any[64, 925], Any[64, 958], Any[64, 1423], Any[64, 1485]], \"1\" => Any[Any[1, 2], Any[1, 17], Any[1, 18], Any[1, 369], Any[1, 836], Any[1, 852], Any[2, 3], Any[2, 18], Any[2, 369], Any[2, 370]  …  Any[61, 1422], Any[62, 63], Any[62, 1422], Any[63, 64], Any[63, 1422], Any[63, 1423], Any[63, 1424], Any[64, 941], Any[64, 957], Any[64, 1424]], \"5\" => Any[Any[1, 19], Any[1, 33], Any[1, 307], Any[1, 353], Any[1, 371], Any[1, 851], Any[2, 20], Any[2, 34], Any[2, 308], Any[2, 354]  …  Any[62, 1424], Any[62, 1438], Any[63, 941], Any[63, 1421], Any[63, 1439], Any[63, 1485], Any[64, 942], Any[64, 1422], Any[64, 1440], Any[64, 1486]], \"2\" => Any[Any[1, 5], Any[1, 717], Any[2, 6], Any[2, 718], Any[3, 7], Any[3, 719], Any[4, 8], Any[4, 720], Any[5, 9], Any[6, 10]  …  Any[55, 59], Any[56, 60], Any[57, 61], Any[58, 62], Any[59, 63], Any[60, 64], Any[61, 1073], Any[62, 1074], Any[63, 1075], Any[64, 1076]], \"6\" => Any[Any[1, 7], Any[1, 38], Any[1, 128], Any[1, 190], Any[1, 312], Any[1, 374], Any[1, 655], Any[1, 688], Any[1, 719], Any[1, 750]  …  Any[64, 921], Any[64, 954], Any[64, 1043], Any[64, 1074], Any[64, 1105], Any[64, 1138], Any[64, 1419], Any[64, 1481], Any[64, 1603], Any[64, 1665]], \"3\" => Any[Any[1, 6], Any[1, 21], Any[1, 22], Any[1, 189], Any[1, 373], Any[1, 656], Any[1, 672], Any[1, 718], Any[1, 733], Any[1, 734]  …  Any[63, 1604], Any[64, 937], Any[64, 953], Any[64, 1059], Any[64, 1060], Any[64, 1075], Any[64, 1121], Any[64, 1137], Any[64, 1420], Any[64, 1604]]), Any[\"1\", \"2\", \"3\", \"4\", \"5\", \"6\"], Dict{Any, Any}(\"1_1_1_1_1_2\" => Any[Any[1], Any[2, 5], Any[17, 65], Any[3, 9], Any[33, 129], Any[4, 13], Any[49, 193], Any[6], Any[18, 21, 66, 69], Any[81]  …  Any[248, 254], Any[171], Any[172, 175], Any[187, 235], Any[176], Any[188, 191, 236, 239], Any[251], Any[192, 240], Any[252, 255], Any[256]], \"1\" => Any[Any[1], Any[2, 5], Any[3, 9], Any[4, 13], Any[6], Any[7, 10], Any[8, 14], Any[11], Any[12, 15], Any[16]], \"1_3_3_5_7_8\" => Any[Any[1], Any[2], Any[17], Any[5], Any[65], Any[3], Any[33], Any[9], Any[129], Any[4]  …  Any[176], Any[239], Any[191], Any[236], Any[251], Any[192], Any[252], Any[240], Any[255], Any[256]], \"2_2_4_8_10_10\" => Any[Any[1], Any[2], Any[5, 17], Any[65], Any[3], Any[9, 33], Any[129], Any[4], Any[13, 49], Any[193]  …  Any[175, 187], Any[235], Any[176, 188], Any[236], Any[191], Any[239, 251], Any[192], Any[240, 252], Any[255], Any[256]], \"2_2_4_5_7_7\" => Any[Any[1], Any[2], Any[5], Any[17], Any[65], Any[3], Any[9], Any[33], Any[129], Any[4]  …  Any[188], Any[236], Any[239], Any[191], Any[251], Any[192], Any[240], Any[252], Any[255], Any[256]], \"1_3_6\" => Any[Any[1], Any[2], Any[5], Any[17], Any[3], Any[9], Any[33], Any[4], Any[13], Any[49]  …  Any[56], Any[62], Any[43], Any[44], Any[47], Any[59], Any[48], Any[60], Any[63], Any[64]], \"5_6_7\" => Any[Any[1], Any[2], Any[5], Any[17], Any[3], Any[9], Any[33], Any[4], Any[13], Any[49]  …  Any[56], Any[62], Any[43], Any[44], Any[47], Any[59], Any[48], Any[60], Any[63], Any[64]], \"1_3_3_5_7_9\" => Any[Any[1], Any[2], Any[17], Any[5], Any[65], Any[3], Any[33], Any[9], Any[129], Any[4]  …  Any[176], Any[239], Any[236], Any[191], Any[251], Any[192], Any[252], Any[240], Any[255], Any[256]], \"3_3_5_6_9_10\" => Any[Any[1], Any[5], Any[2], Any[17], Any[65], Any[9], Any[3], Any[33], Any[129], Any[13]  …  Any[191], Any[236], Any[188], Any[251], Any[239], Any[192], Any[240], Any[255], Any[252], Any[256]], \"2_2_9_9_9_9\" => Any[Any[1], Any[2, 5, 17, 65], Any[3, 9, 33, 129], Any[4, 13, 49, 193], Any[6, 81], Any[18, 21, 66, 69], Any[7, 10, 97, 145], Any[19, 25, 34, 37, 67, 73, 130, 133], Any[8, 14, 113, 209], Any[20, 29, 50, 53, 68, 77, 194, 197]  …  Any[123, 168, 174, 219], Any[112, 160, 247, 250], Any[124, 127, 184, 190, 220, 223, 232, 238], Any[128, 224, 248, 254], Any[171], Any[172, 175, 187, 235], Any[176, 251], Any[188, 191, 236, 239], Any[192, 240, 252, 255], Any[256]]…), true, true, true, true)"
      ]
     },
     "metadata": {},
     "output_type": "display_data"
    }
   ],
   "source": [
    "atom_num = 64 #TODO number of atoms\n",
    "pth_loadbase = \"\"\n",
    "basis_norm_dict_pth = \"$(pth_loadbase)utils/basis_norm_dict_jl_quin.json\" \n",
    "\n",
    "ind_cluster_dict_pth = \"$(pth_loadbase)utils/1100/tm_4_4_2_64/cluster_ind_4_4_2_jl.json\"\n",
    "basis_norm_dict = JSON.parsefile(basis_norm_dict_pth)\n",
    "ind_cluster_dict = JSON.parsefile(ind_cluster_dict_pth)\n",
    "\n",
    "symbol_list_pth = \"$(pth_loadbase)utils/symbol_list_240111_6nn.json\"\n",
    "symbol_list = JSON.parsefile(symbol_list_pth)\n",
    "println(length(symbol_list))\n",
    "\n",
    "config_info = config(\n",
    "        ind_cluster_dict,\n",
    "        symbol_list,\n",
    "        basis_norm_dict,\n",
    "        # cluster_norm_dict,\n",
    "        true, true, true, true)"
   ]
  },
  {
   "cell_type": "markdown",
   "metadata": {},
   "source": [
    "Generate SQS\n",
    "\n",
    "##### Single-composition"
   ]
  },
  {
   "cell_type": "code",
   "execution_count": null,
   "metadata": {},
   "outputs": [],
   "source": [
    "function spin_exchange(sigma, action)\n",
    "    sigma_n = copy(sigma)\n",
    "    sigma_n[action[1]], sigma_n[action[2]] = sigma[action[2]], sigma[action[1]]\n",
    "    return sigma_n\n",
    "end\n",
    "\n",
    "compo_list = Matrix{Float64}([\n",
    "    0 0.3 0.4 0.3 0;\n",
    "])\n",
    "\n",
    "compo_denote = join(convert(Vector{Int64}, round.(compo_list[1,:]*100),), \"\")\n",
    "#TODO Set the path\n",
    "system_denote = \"ter_Cij\"\n",
    "sav_pth = \"sqs_zoo\"\n",
    "meta_iter = 12\n",
    "atom_num = 64 #TODO number of transition metal atom\n",
    "lagrange_list = LinRange(1e-5, 1e-3, meta_iter)\n",
    "\n",
    "# Threads.@threads for meta_i in 1:meta_iter\n",
    "for meta_i in 1:meta_iter\n",
    "\n",
    "    #TODO specify the MC steps\n",
    "    mc_iter = 10000\n",
    "    lagrange = lagrange_list[meta_i]\n",
    "    # lagrange = 1e-5\n",
    "    temp = 2\n",
    "    res_min = Inf\n",
    "    ele_list_min, cprvec_min = nothing, nothing\n",
    "    res_list = []\n",
    "    global res_list\n",
    "    cprvec_sqs = main_sqs(config_info, compo_list)[1] #TODO as the ground truth\n",
    "\n",
    "    #TODO rule for sequence generation\n",
    "    ele_list = ele_list_gen(compo_list[1,:], atom_num, 1, \"randchoice\")\n",
    "    cpr_sigma = main_rspace(1:1, config_info, ele_list)[1]\n",
    "    res_raw = norm(cpr_sigma.-cprvec_sqs)\n",
    "\n",
    "    for i in 1:mc_iter \n",
    "        temp = exp(-i/100)\n",
    "        action = rand(1:atom_num, 2)\n",
    "        ele_list_n = spin_exchange(ele_list, action)\n",
    "        cpr_sigma_n = main_rspace(1:1, config_info, ele_list_n)[1]\n",
    "        res_n = norm(cpr_sigma_n.-cprvec_sqs)\n",
    "        penalize = maximum(abs.(cpr_sigma_n.-cprvec_sqs))*lagrange\n",
    "        res_n += penalize \n",
    "        append!(res_list, res_n)\n",
    "\n",
    "        if minimum([1, exp((res_raw - res_n)/temp)]) > rand()\n",
    "            ele_list = copy(ele_list_n)\n",
    "            res_raw = copy(res_n)\n",
    "            if res_n < res_min\n",
    "                res_min = copy(res_n)\n",
    "                cprvec_min = copy(cpr_sigma_n)\n",
    "                ele_list_min = copy(ele_list)\n",
    "            end\n",
    "        end\n",
    "    end\n",
    "    npzwrite(joinpath(sav_pth, \"sqs_$(system_denote)_$(meta_i)_$(atom_num)_$(compo_denote).npy\"), ele_list_min)\n",
    "end"
   ]
  }
 ],
 "metadata": {
  "kernelspec": {
   "display_name": "Julia 1.11.1",
   "language": "julia",
   "name": "julia-1.11"
  },
  "language_info": {
   "file_extension": ".jl",
   "mimetype": "application/julia",
   "name": "julia",
   "version": "1.11.1"
  }
 },
 "nbformat": 4,
 "nbformat_minor": 2
}
